{
 "cells": [
  {
   "cell_type": "code",
   "execution_count": 4,
   "metadata": {},
   "outputs": [
    {
     "name": "stdout",
     "output_type": "stream",
     "text": [
      "  Nombre  Altura (cm) Sexo\n",
      "0    Fer          180    M\n",
      "1    Ale          170    M\n",
      "2   Alex          170    M\n",
      "3   Gael          168    M\n",
      "4  Erick          165    M\n"
     ]
    }
   ],
   "source": [
    "import pandas as pd\n",
    "import numpy as np\n",
    "from scipy import stats\n",
    "\n",
    "df = pd.read_csv(\"Alturas_7mo.csv\")\n",
    "\n",
    "print(df.head())\n",
    "\n",
    "alturas = df['Altura (cm)']\n",
    "\n"
   ]
  },
  {
   "cell_type": "code",
   "execution_count": 3,
   "metadata": {},
   "outputs": [
    {
     "name": "stdout",
     "output_type": "stream",
     "text": [
      "Media calculada: 171.78571428571428\n",
      "Prueba t de una muestra\n",
      "Estadístico t: -3.0041, Valor p: 0.0102\n"
     ]
    }
   ],
   "source": [
    "# H0 ¿Tienen las estudiantes de 9no una estatura media diferente de 175 cm? (Prueba t de una muestra)\n",
    "\n",
    "#h1 con prueba t student\n",
    "\n",
    "media = sum(alturas) / len(alturas)\n",
    "\n",
    "print(f\"Media calculada: {media}\")\n",
    "\n",
    "media_hipotetica = media\n",
    "t_stat, p_value = stats.ttest_1samp(alturas, 175)\n",
    "print(f\"Prueba t de una muestra\\nEstadístico t: {t_stat:.4f}, Valor p: {p_value:.4f}\")\n"
   ]
  },
  {
   "cell_type": "code",
   "execution_count": 5,
   "metadata": {},
   "outputs": [
    {
     "name": "stdout",
     "output_type": "stream",
     "text": [
      "\n",
      "Prueba de varianza (Chi Cuadrada)\n",
      "Estadístico chi-cuadrado: 2.0836, Valor p: 0.9997\n"
     ]
    }
   ],
   "source": [
    "# Prueba 2: ¿Es la desviación estándar de su estatura igual a o menor que 10 cm? (Prueba de varianza usando Chi cuadrada)\n",
    "std_hipotetica = 10\n",
    "n = len(alturas)\n",
    "std_muestral = np.std(alturas, ddof=1)\n",
    "chi_stat = (n - 1) * (std_muestral**2) / (std_hipotetica**2)\n",
    "p_value_chi = stats.chi2.sf(chi_stat, n - 1)\n",
    "print(f\"\\nPrueba de varianza (Chi Cuadrada)\\nEstadístico chi-cuadrado: {chi_stat:.4f}, Valor p: {p_value_chi:.4f}\")\n"
   ]
  },
  {
   "cell_type": "code",
   "execution_count": 11,
   "metadata": {},
   "outputs": [
    {
     "name": "stdout",
     "output_type": "stream",
     "text": [
      "\n",
      "Prueba t para dos muestras independientes (Hombres vs Mujeres)\n",
      "Estadístico t: 2.0865, Valor p: 0.0917\n"
     ]
    }
   ],
   "source": [
    "# Prueba 3: ¿Es diferente la estatura promedio de las mujeres comparada con la de los hombres? (Prueba t para dos muestras independientes)\n",
    "# Suponiendo que hay una columna llamada \"Género\" con los valores \"Hombre\" y \"Mujer\"\n",
    "alturas_hombres = df[df['Sexo'] == 'M']['Altura (cm)']\n",
    "alturas_mujeres = df[df['Sexo'] == 'F']['Altura (cm)']\n",
    "\n",
    "t_stat_2samp, p_value_2samp = stats.ttest_ind(alturas_hombres, alturas_mujeres, equal_var=False)\n",
    "print(f\"\\nPrueba t para dos muestras independientes (Hombres vs Mujeres)\\nEstadístico t: {t_stat_2samp:.4f}, Valor p: {p_value_2samp:.4f}\")"
   ]
  },
  {
   "cell_type": "markdown",
   "metadata": {},
   "source": [
    "# Hipotesis de 1,2,3\n",
    "\n",
    "## 1 la primera prueba que se realizó un prueba T student y se demostró que se rechaza la hipotesis porque esta por debajo del porcentaje de 0.05%\n",
    "\n",
    "## 2 la segunda prueba que se realizó un prueba T student y se demostró que se NO se rechaza la hipotesis porque esta por encima del porcentaje de 0.05%\n",
    "\n",
    "## 3 la tercera prueba que se realizó un prueba T student y se demostró que se NO se rechaza la hipotesis porque esta por encima del porcentaje de 0.05%"
   ]
  }
 ],
 "metadata": {
  "kernelspec": {
   "display_name": "Python 3",
   "language": "python",
   "name": "python3"
  },
  "language_info": {
   "codemirror_mode": {
    "name": "ipython",
    "version": 3
   },
   "file_extension": ".py",
   "mimetype": "text/x-python",
   "name": "python",
   "nbconvert_exporter": "python",
   "pygments_lexer": "ipython3",
   "version": "3.12.7"
  }
 },
 "nbformat": 4,
 "nbformat_minor": 2
}
