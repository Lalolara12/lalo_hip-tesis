{
 "cells": [
  {
   "cell_type": "code",
   "execution_count": 6,
   "metadata": {},
   "outputs": [
    {
     "name": "stdout",
     "output_type": "stream",
     "text": [
      "  Nombre  Altura (cm) Sexo\n",
      "0    Fer          180    M\n",
      "1    Ale          170    M\n",
      "2   Alex          170    M\n",
      "3   Gael          168    M\n",
      "4  Erick          165    M\n"
     ]
    }
   ],
   "source": [
    "import pandas as pd\n",
    "import numpy as np\n",
    "from scipy import stats\n",
    "\n",
    "df = pd.read_csv(\"Alturas_7mo.csv\")\n",
    "\n",
    "print(df.head())\n",
    "\n",
    "alturas = df['Altura (cm)']\n"
   ]
  },
  {
   "cell_type": "code",
   "execution_count": 8,
   "metadata": {},
   "outputs": [
    {
     "name": "stdout",
     "output_type": "stream",
     "text": [
      "Media calculada: 171.78571428571428\n",
      "Prueba t de una muestra\n",
      "Estadístico t: 0.0000, Valor p: 1.0000\n"
     ]
    }
   ],
   "source": [
    "# H0 ¿Tienen las estudiantes de 9no una estatura media diferente de 175 cm? (Prueba t de una muestra)\n",
    "\n",
    "#h1 con prueba t student\n",
    "\n",
    "media = sum(alturas) / len(alturas)\n",
    "\n",
    "print(f\"Media calculada: {media}\")\n",
    "\n",
    "media_hipotetica = media\n",
    "t_stat, p_value = stats.ttest_1samp(alturas, media_hipotetica)\n",
    "print(f\"Prueba t de una muestra\\nEstadístico t: {t_stat:.4f}, Valor p: {p_value:.4f}\")\n"
   ]
  },
  {
   "cell_type": "code",
   "execution_count": null,
   "metadata": {},
   "outputs": [],
   "source": [
    "# Prueba 2: ¿Es la desviación estándar de su estatura igual a o menor que 10 cm? (Prueba de varianza usando Chi cuadrada)\n",
    "std_hipotetica = 10\n",
    "n = len(alturas)\n",
    "std_muestral = np.std(alturas, ddof=1)\n",
    "chi_stat = (n - 1) * (std_muestral**2) / (std_hipotetica**2)\n",
    "p_value_chi = stats.chi2.sf(chi_stat, n - 1)\n",
    "print(f\"\\nPrueba de varianza (Chi Cuadrada)\\nEstadístico chi-cuadrado: {chi_stat:.4f}, Valor p: {p_value_chi:.4f}\")\n"
   ]
  },
  {
   "cell_type": "code",
   "execution_count": null,
   "metadata": {},
   "outputs": [],
   "source": [
    "# Prueba 3: ¿Es diferente la estatura promedio de las mujeres comparada con la de los hombres? (Prueba t para dos muestras independientes)\n",
    "# Suponiendo que hay una columna llamada \"Género\" con los valores \"Hombre\" y \"Mujer\"\n",
    "alturas_hombres = df[df['Género'] == 'Hombre']['Altura']\n",
    "alturas_mujeres = df[df['Género'] == 'Mujer']['Altura']\n",
    "\n",
    "t_stat_2samp, p_value_2samp = stats.ttest_ind(alturas_hombres, alturas_mujeres, equal_var=False)\n",
    "print(f\"\\nPrueba t para dos muestras independientes (Hombres vs Mujeres)\\nEstadístico t: {t_stat_2samp:.4f}, Valor p: {p_value_2samp:.4f}\")"
   ]
  }
 ],
 "metadata": {
  "kernelspec": {
   "display_name": "Python 3",
   "language": "python",
   "name": "python3"
  },
  "language_info": {
   "codemirror_mode": {
    "name": "ipython",
    "version": 3
   },
   "file_extension": ".py",
   "mimetype": "text/x-python",
   "name": "python",
   "nbconvert_exporter": "python",
   "pygments_lexer": "ipython3",
   "version": "3.12.7"
  }
 },
 "nbformat": 4,
 "nbformat_minor": 2
}
